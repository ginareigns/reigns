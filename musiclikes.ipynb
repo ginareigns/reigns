{
  "nbformat": 4,
  "nbformat_minor": 0,
  "metadata": {
    "colab": {
      "provenance": [],
      "mount_file_id": "13fYoSwWSlb3gM-XAwsZhpscPMDTEMZ6F",
      "authorship_tag": "ABX9TyPu5yJ4bBS6ySADfS6uckwE",
      "include_colab_link": true
    },
    "kernelspec": {
      "name": "python3",
      "display_name": "Python 3"
    },
    "language_info": {
      "name": "python"
    }
  },
  "cells": [
    {
      "cell_type": "markdown",
      "metadata": {
        "id": "view-in-github",
        "colab_type": "text"
      },
      "source": [
        "<a href=\"https://colab.research.google.com/github/ginareigns/reigns/blob/main/musiclikes.ipynb\" target=\"_parent\"><img src=\"https://colab.research.google.com/assets/colab-badge.svg\" alt=\"Open In Colab\"/></a>"
      ]
    },
    {
      "cell_type": "code",
      "execution_count": null,
      "metadata": {
        "colab": {
          "base_uri": "https://localhost:8080/"
        },
        "id": "_YclqRP8CayC",
        "outputId": "e071ffc1-f405-48a1-f6cd-efa4c9bb013a"
      },
      "outputs": [
        {
          "output_type": "stream",
          "name": "stdout",
          "text": [
            "Looking in indexes: https://pypi.org/simple, https://us-python.pkg.dev/colab-wheels/public/simple/\n",
            "Requirement already satisfied: joblib in /usr/local/lib/python3.8/dist-packages (1.2.0)\n"
          ]
        },
        {
          "output_type": "stream",
          "name": "stderr",
          "text": [
            "/usr/local/lib/python3.8/dist-packages/sklearn/base.py:420: UserWarning: X does not have valid feature names, but DecisionTreeClassifier was fitted with feature names\n",
            "  warnings.warn(\n"
          ]
        },
        {
          "output_type": "execute_result",
          "data": {
            "text/plain": [
              "array(['HipHop'], dtype=object)"
            ]
          },
          "metadata": {},
          "execution_count": 21
        }
      ],
      "source": [
        "import pandas as pd\n",
        "from sklearn.tree import DecisionTreeClassifier\n",
        "from sklearn.model_selection import train_test_split\n",
        "from sklearn.metrics import accuracy_score\n",
        "!pip install joblib\n",
        "import joblib\n",
        "\n",
        "\n",
        "# music_data = pd.read_csv(\"/content/drive/MyDrive/datasets/music.csv\")\n",
        "# X = music_data.drop(columns = ['genre'])\n",
        "# Y = music_data['genre']\n",
        "\n",
        "# X_train, X_test, Y_train, Y_test = train_test_split(X, Y, test_size = 0.05)\n",
        "# model = DecisionTreeClassifier()\n",
        "# model.fit(X_train, Y_train)\n",
        "# joblib.dump(model, '/content/drive/MyDrive/models/music-recommender.joblib')\n",
        "# predictions = model.predict(X_test)\n",
        "\n",
        "# score = accuracy_score(Y_test, predictions)\n",
        "# \n",
        "model = joblib.load('/content/drive/MyDrive/models/music-recommender.joblib')\n",
        "predictions = model.predict([[21, 1]])\n",
        "predictions"
      ]
    }
  ]
}